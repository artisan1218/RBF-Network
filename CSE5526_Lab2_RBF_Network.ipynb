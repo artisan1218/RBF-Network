{
 "cells": [
  {
   "cell_type": "code",
   "execution_count": null,
   "metadata": {
    "colab": {
     "base_uri": "https://localhost:8080/",
     "height": 282
    },
    "id": "7aIKax2zRzOf",
    "outputId": "8f4bbd03-ba62-4acf-cb17-deaf775c2e64"
   },
   "outputs": [
    {
     "data": {
      "text/plain": [
       "[<matplotlib.lines.Line2D at 0x7f27a00a1ba8>]"
      ]
     },
     "execution_count": 109,
     "metadata": {
      "tags": []
     },
     "output_type": "execute_result"
    },
    {
     "data": {
      "image/png": "[encoded data removed]",
      "text/plain": [
       "<Figure size 432x288 with 1 Axes>"
      ]
     },
     "metadata": {
      "tags": []
     },
     "output_type": "display_data"
    }
   ],
   "source": [
    "import matplotlib.pyplot as plt\n",
    "import numpy as np\n",
    "import math\n",
    "import random\n",
    "import statistics as stat\n",
    "\n",
    "def generate_data_points(num_data_points):\n",
    "  y_list = []\n",
    "  desired_y_list = []\n",
    "  x_list = []\n",
    "\n",
    "  for i in range(num_data_points):\n",
    "    x = np.random.uniform(0.0, 1.0)\n",
    "    x_list.append(x)\n",
    "    y = 0.5 + 0.4 * math.sin(3 * math.pi * x)\n",
    "    noise = np.random.uniform(-0.1, 0.1)\n",
    "    y_noise = y + noise\n",
    "    y_list.append(y_noise)\n",
    "    desired_y_list.append(y)\n",
    "  return x_list, y_list, desired_y_list\n",
    "\n",
    "x_list, y_list, desired_y_list = generate_data_points(75)\n",
    "data = np.array([x_list, y_list])\n",
    "\n",
    "#print(data)\n",
    "#print(data[0][0])\n",
    "\n",
    "clusters_x = np.random.choice(np.squeeze(data[0]), size=1)\n",
    "clusters_y = np.random.choice(np.squeeze(data[1]), size=1)\n",
    "clusters = np.array([clusters_x, clusters_y])\n",
    "\n",
    "plt.plot(x_list, y_list, 'ro')"
   ]
  },
  {
   "cell_type": "code",
   "execution_count": null,
   "metadata": {
    "colab": {
     "base_uri": "https://localhost:8080/",
     "height": 84
    },
    "id": "Ihpt_Xr3P69U",
    "outputId": "e6fe5b7c-4dde-4211-80b7-d210571e9ea6"
   },
   "outputs": [
    {
     "name": "stdout",
     "output_type": "stream",
     "text": [
      "Final clusters:  [[0.77773446 0.64588852]\n",
      " [0.47941156 0.16184521]\n",
      " [0.18868494 0.72152073]]\n",
      "Final variance:  [0.00301324 0.00355978 0.0029892 ]\n"
     ]
    }
   ],
   "source": [
    "'''\n",
    "implementation of k-means\n",
    "'''\n",
    "def kmeans(data, num_clusters):\n",
    "  # randomly generate num_clusters clusters from the data point\n",
    "  clusters_x = np.random.choice(np.squeeze(data[0]), size=num_clusters)\n",
    "  clusters_y = np.random.choice(np.squeeze(data[1]), size=num_clusters)\n",
    "  clusters = np.array([clusters_x, clusters_y])\n",
    "  prev_clusters = clusters.copy()\n",
    "  variance = np.zeros(num_clusters) # initialize all variance to zero\n",
    "  converged = False\n",
    "  all_same_variance = 0\n",
    "\n",
    "  dp, num_clusters = (len(data[0]), num_clusters) # distance is a 2d array, x axis is the data point, y axis is the cluster\n",
    "  # distance[i][j][0] means the squared distance from the ith data point to jth cluster\n",
    "  # distance[i][j][1] means the x axis of that the i data point\n",
    "  # distance[i][j][2] means the y axis of that the i data point\n",
    "  distance = np.array([[[0.0, 0.0, 0.0] for i in range(dp)] for j in range(num_clusters)])\n",
    "\n",
    "  while not converged:\n",
    "    # compute the distance from each data point to each clusters and store it in a 2darray\n",
    "    for i in range(num_clusters): # for all the clusters\n",
    "      cluster = [clusters[0][i], clusters[1][i]] # get one cluster\n",
    "      for j in range(len(data[0])): # for all the data point\n",
    "        dp = [data[0][j], data[1][j]] # get one dp\n",
    "        squared_distance = (cluster[0] - dp[0])**2 + (cluster[1] - dp[1])**2\n",
    "        all_same_variance += squared_distance\n",
    "        distance[i][j][0] = squared_distance\n",
    "        distance[i][j][1] = dp[0] # x coordinate\n",
    "        distance[i][j][2] = dp[1] # y coordinate \n",
    "\n",
    "    distanceT = distance.transpose(1,0,2)\n",
    "    current_cluster_index = 0\n",
    "    smallest_data_point_x = 0\n",
    "    smallest_data_point_y = 0\n",
    "    smallestDistance = 1000 # set to a big number\n",
    "    clusters.fill(0)\n",
    "    num_dp_belongs_to_each_cluster = [1 for i in range(num_clusters)]\n",
    "    cluster_dp_x = [[] for i in range(num_clusters)] # holds x axis of all datapoints belong to cluster i \n",
    "    cluster_dp_y = [[] for i in range(num_clusters)] # holds y axis of all datapoints belong to cluster i \n",
    "    \n",
    "    for i in range(len(distanceT)): # number of data point\n",
    "      for j in range(len(distanceT[i])): # for each distance from the cluster to the i data point\n",
    "        dis = distanceT[i][j][0] # the squared distance at data point i at cluster j\n",
    "        if dis < smallestDistance:\n",
    "          smallestDistance = dis\n",
    "          smallest_data_point_x = distanceT[i][j][1]\n",
    "          smallest_data_point_y = distanceT[i][j][2]\n",
    "          current_cluster_index = j\n",
    "      smallestDistance = 1000\n",
    "      num_dp_belongs_to_each_cluster[current_cluster_index] += 1\n",
    "      clusters[0][current_cluster_index] += smallest_data_point_x \n",
    "      cluster_dp_x[current_cluster_index].append(smallest_data_point_x)\n",
    "      clusters[1][current_cluster_index] += smallest_data_point_y\n",
    "      cluster_dp_y[current_cluster_index].append(smallest_data_point_y)\n",
    "    \n",
    "    # calculate the means\n",
    "    for i in range(num_clusters):\n",
    "      clusters[0][i] = clusters[0][i] / num_dp_belongs_to_each_cluster[i]\n",
    "      clusters[1][i] = clusters[1][i] / num_dp_belongs_to_each_cluster[i]\n",
    "    \n",
    "    # if the difference between the current cluster and previous cluster is small, the it converged.\n",
    "    converged = np.linalg.norm(clusters - prev_clusters) < 1e-6\n",
    "    prev_clusters = clusters.copy()\n",
    "\n",
    "  clusters = clusters.transpose()\n",
    "  clustersWithNoPoints = []\n",
    "  for i in range(num_clusters):\n",
    "    dp_for_cluster = num_dp_belongs_to_each_cluster[i]\n",
    "    if dp_for_cluster < 2:\n",
    "      # keep track of clusters with no points or 1 point\n",
    "      clustersWithNoPoints.append(i)\n",
    "      continue\n",
    "    else:\n",
    "      distance_dp_to_cluster = []\n",
    "      for j in range(len(cluster_dp_x[i])):\n",
    "        cluster_x = clusters[i][0]\n",
    "        clsuter_y = clusters[i][1]\n",
    "        dp_x = cluster_dp_x[i][j]\n",
    "        dp_y = cluster_dp_y[i][j]\n",
    "        delta_x_square = (cluster_x - dp_x)**2\n",
    "        delta_y_square = (clsuter_y - dp_y)**2\n",
    "        distance_dp_to_cluster.append(math.sqrt(delta_x_square + delta_y_square))\n",
    "      if len(distance_dp_to_cluster) < 2:\n",
    "        variance[i] = 0\n",
    "      else:\n",
    "        variance[i] = stat.variance(distance_dp_to_cluster) # assign x variance of the i cluster to the ith idnex\n",
    "\n",
    "  # if there are clusters with 0 or 1 points, take the mean variance of the other clusters\n",
    "  if len(clustersWithNoPoints) > 0:\n",
    "    avg_variance_all_other_clusters = []\n",
    "   \n",
    "    for i in range(num_clusters):\n",
    "      if i not in clustersWithNoPoints:\n",
    "        avg_variance_all_other_clusters.append(variance[i])\n",
    "    variance[clustersWithNoPoints] = np.mean(avg_variance_all_other_clusters)\n",
    "  \n",
    "  all_same_variance = all_same_variance/num_clusters\n",
    "  all_same_variance = np.array([all_same_variance for i in range(len(variance))])\n",
    "  \n",
    "  return clusters, variance\n",
    "\n",
    "# test result\n",
    "clusters, variance = kmeans(data, num_clusters=3)\n",
    "print('Final clusters: ', clusters)\n",
    "print('Final variance: ', variance)\n"
   ]
  },
  {
   "cell_type": "code",
   "execution_count": null,
   "metadata": {
    "colab": {
     "base_uri": "https://localhost:8080/",
     "height": 330
    },
    "id": "-mzqQLtLescS",
    "outputId": "62a8d0a2-2f64-48f1-a294-b9a86c8a302c"
   },
   "outputs": [
    {
     "name": "stdout",
     "output_type": "stream",
     "text": [
      "Predication accuracy of points:  0.9866666666666667\n",
      "Average error of all points:  0.025197749288869465\n"
     ]
    },
    {
     "data": {
      "image/png": "[encoded data removed]",
      "text/plain": [
       "<Figure size 432x288 with 1 Axes>"
      ]
     },
     "metadata": {
      "tags": []
     },
     "output_type": "display_data"
    }
   ],
   "source": [
    "'''\n",
    "Implementation of the RBF network including regression\n",
    "'''\n",
    "\n",
    "def rbf(x, centers, variance):\n",
    "    return np.exp(-np.linalg.norm(centers - x)**2)\n",
    "\n",
    "class RBFNet(object):\n",
    "    \"\"\"Implementation of a Radial Basis Function Network\"\"\"\n",
    "    def __init__(self, k=3, lr=0.01, epochs=100, rbf=rbf):\n",
    "        self.k = k\n",
    "        self.lr = lr\n",
    "        self.epochs = epochs\n",
    "        self.rbf = rbf\n",
    "        self.w = np.random.randn(k)\n",
    "        self.b = np.random.randn(1)\n",
    "\n",
    "    def fit(self, X, y):\n",
    "      # compute variance from data\n",
    "      self.centers, self.variance = kmeans(X, self.k)\n",
    "      \n",
    " \n",
    "      # training\n",
    "      X = X.transpose()\n",
    "      for epoch in range(self.epochs):\n",
    "        for i in range(X.shape[0]):\n",
    "            # forward pass\n",
    "            a = np.array([self.rbf(X[i], center, variance) for center, variance, in zip(self.centers, self.variance)])\n",
    "            F = a.T.dot(self.w) + self.b\n",
    "            loss = (y[i] - F).flatten() ** 2\n",
    "\n",
    "            # backward pass\n",
    "            error = -(y[i] - F).flatten()\n",
    " \n",
    "            # online update\n",
    "            #self.w = self.w - self.lr * a.dot(error)\n",
    "            self.w = self.w - self.lr * a * error\n",
    "            self.b = self.b - self.lr * error\n",
    "  \n",
    "    def predict(self, X):\n",
    "      y_pred = []\n",
    "      X = X.transpose()\n",
    "      for i in range(len(X)):\n",
    "        a = np.array([rbf(X[i], center, variance) for center, variance, in zip(self.centers, self.variance)])\n",
    "        F = a.T.dot(self.w) + self.b\n",
    "        y_pred.append(F)\n",
    "      return y_pred\n",
    "\n",
    "\n",
    "# create the RNF network\n",
    "rbfnet = RBFNet(lr=0.01, k=8)\n",
    "# training process\n",
    "rbfnet.fit(data, desired_y_list)\n",
    "# make prediction using the network\n",
    "y_pred = rbfnet.predict(data)\n",
    " \n",
    "# plot the result\n",
    "plt.plot(data[0], y_list, 'ro', label='Expected')\n",
    "plt.plot(data[0], y_pred, 'co', label='Predicted')\n",
    "\n",
    "# calculating the accuracy and average error\n",
    "num_correct_prediction_points = 0\n",
    "for i in range(len(y_list)):\n",
    "  if abs(y_pred[i] - y_list[i]) < 1e-1:\n",
    "    num_correct_prediction_points += 1\n",
    "print('Predication accuracy of points: ', num_correct_prediction_points/len(y_list))\n",
    "\n",
    "avgError = np.mean([abs(y_pred[i] - y_list[i]) for i in range(len(y_list))])\n",
    "print('Average error of all points: ', avgError)\n",
    "\n",
    "plt.legend()\n",
    "plt.tight_layout()\n",
    "plt.show()"
   ]
  }
 ],
 "metadata": {
  "colab": {
   "collapsed_sections": [],
   "name": "CSE5526 Lab2 RBF Network.ipynb",
   "provenance": []
  },
  "kernelspec": {
   "display_name": "Python 3",
   "language": "python",
   "name": "python3"
  },
  "language_info": {
   "codemirror_mode": {
    "name": "ipython",
    "version": 3
   },
   "file_extension": ".py",
   "mimetype": "text/x-python",
   "name": "python",
   "nbconvert_exporter": "python",
   "pygments_lexer": "ipython3",
   "version": "3.8.5"
  }
 },
 "nbformat": 4,
 "nbformat_minor": 1
}
